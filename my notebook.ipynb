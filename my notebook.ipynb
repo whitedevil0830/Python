{
 "cells": [
  {
   "cell_type": "code",
   "execution_count": 1,
   "id": "10bc46a2",
   "metadata": {},
   "outputs": [
    {
     "name": "stdout",
     "output_type": "stream",
     "text": [
      "hello world\n"
     ]
    }
   ],
   "source": [
    "print(\"hello world\")"
   ]
  },
  {
   "cell_type": "code",
   "execution_count": 2,
   "id": "c594b567",
   "metadata": {},
   "outputs": [
    {
     "name": "stdout",
     "output_type": "stream",
     "text": [
      "pm\n"
     ]
    }
   ],
   "source": [
    "print(\"pm\")"
   ]
  },
  {
   "cell_type": "markdown",
   "id": "64882b9c",
   "metadata": {},
   "source": [
    "### python is case sensitive"
   ]
  },
  {
   "cell_type": "markdown",
   "id": "c188a853",
   "metadata": {},
   "source": [
    "### string(text) should be in inverted commas"
   ]
  },
  {
   "cell_type": "markdown",
   "id": "eae588f6",
   "metadata": {},
   "source": [
    "# shortcut keys"
   ]
  },
  {
   "cell_type": "markdown",
   "id": "d269633b",
   "metadata": {},
   "source": [
    "#### run-> shift+enter\n",
    "#### add a cell (abv)-> a\n",
    "#### add a cell (bel)-> b\n",
    "#### delete a cell-> x"
   ]
  },
  {
   "cell_type": "code",
   "execution_count": 4,
   "id": "8f855c4f",
   "metadata": {},
   "outputs": [
    {
     "data": {
      "text/plain": [
       "int"
      ]
     },
     "execution_count": 4,
     "metadata": {},
     "output_type": "execute_result"
    }
   ],
   "source": [
    "x=10\n",
    "type(x)"
   ]
  },
  {
   "cell_type": "code",
   "execution_count": 5,
   "id": "c7dd1dd2",
   "metadata": {},
   "outputs": [
    {
     "data": {
      "text/plain": [
       "float"
      ]
     },
     "execution_count": 5,
     "metadata": {},
     "output_type": "execute_result"
    }
   ],
   "source": [
    "x=10.5\n",
    "type(x)"
   ]
  },
  {
   "cell_type": "code",
   "execution_count": 6,
   "id": "f1d9c972",
   "metadata": {},
   "outputs": [
    {
     "data": {
      "text/plain": [
       "str"
      ]
     },
     "execution_count": 6,
     "metadata": {},
     "output_type": "execute_result"
    }
   ],
   "source": [
    "x='pm'\n",
    "type(x)"
   ]
  },
  {
   "cell_type": "markdown",
   "id": "6d075ede",
   "metadata": {},
   "source": [
    "### Variables"
   ]
  },
  {
   "cell_type": "code",
   "execution_count": 7,
   "id": "20e368be",
   "metadata": {},
   "outputs": [
    {
     "data": {
      "text/plain": [
       "('DS', 'ML', 'AI')"
      ]
     },
     "execution_count": 7,
     "metadata": {},
     "output_type": "execute_result"
    }
   ],
   "source": [
    "coursenames='DS','ML','AI'\n",
    "coursenames"
   ]
  },
  {
   "cell_type": "code",
   "execution_count": 8,
   "id": "b8eff6ee",
   "metadata": {},
   "outputs": [
    {
     "ename": "SyntaxError",
     "evalue": "invalid syntax (4274456423.py, line 1)",
     "output_type": "error",
     "traceback": [
      "\u001b[1;36m  File \u001b[1;32m\"C:\\Users\\KIIT\\AppData\\Local\\Temp\\ipykernel_17724\\4274456423.py\"\u001b[1;36m, line \u001b[1;32m1\u001b[0m\n\u001b[1;33m    course names='DS','ML','AI'\u001b[0m\n\u001b[1;37m           ^\u001b[0m\n\u001b[1;31mSyntaxError\u001b[0m\u001b[1;31m:\u001b[0m invalid syntax\n"
     ]
    }
   ],
   "source": [
    "course names='DS','ML','AI'\n",
    "course names"
   ]
  },
  {
   "cell_type": "markdown",
   "id": "89f71f38",
   "metadata": {},
   "source": [
    "### spaces,hyphen,*,etc are not allowed.\n",
    "### THE ONLY ALLOWED SPL CHARACTER IS UNDERSCORE(_)\n",
    "### variable name should not start with a number rather it should start with an alphabet or underscore(_)"
   ]
  },
  {
   "cell_type": "code",
   "execution_count": null,
   "id": "ceffe59f",
   "metadata": {},
   "outputs": [],
   "source": []
  }
 ],
 "metadata": {
  "kernelspec": {
   "display_name": "Python 3 (ipykernel)",
   "language": "python",
   "name": "python3"
  },
  "language_info": {
   "codemirror_mode": {
    "name": "ipython",
    "version": 3
   },
   "file_extension": ".py",
   "mimetype": "text/x-python",
   "name": "python",
   "nbconvert_exporter": "python",
   "pygments_lexer": "ipython3",
   "version": "3.9.13"
  }
 },
 "nbformat": 4,
 "nbformat_minor": 5
}
