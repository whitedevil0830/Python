{
 "cells": [
  {
   "cell_type": "code",
   "execution_count": 2,
   "id": "07d726b9",
   "metadata": {},
   "outputs": [
    {
     "data": {
      "text/plain": [
       "[1, 12.5, 'hi', 12, 1]"
      ]
     },
     "execution_count": 2,
     "metadata": {},
     "output_type": "execute_result"
    }
   ],
   "source": [
    "sample_list=[1,12.5,'hi',12,1]\n",
    "sample_list"
   ]
  },
  {
   "cell_type": "markdown",
   "id": "ed5222ba",
   "metadata": {},
   "source": [
    "#### list is a set of elements which is are separated by commas and enclosed in square brackects.\n",
    "#### here the list is heterogenous(comination of different datatypes).\n",
    "#### list can be retrieved using index.\n",
    "#### mutable:- it means that the default list can be modified as and when required."
   ]
  },
  {
   "cell_type": "code",
   "execution_count": 11,
   "id": "6fa35dce",
   "metadata": {},
   "outputs": [
    {
     "data": {
      "text/plain": [
       "12"
      ]
     },
     "execution_count": 11,
     "metadata": {},
     "output_type": "execute_result"
    }
   ],
   "source": [
    "sample_list[3]"
   ]
  },
  {
   "cell_type": "code",
   "execution_count": 16,
   "id": "0b6efaf4",
   "metadata": {},
   "outputs": [
    {
     "data": {
      "text/plain": [
       "12"
      ]
     },
     "execution_count": 16,
     "metadata": {},
     "output_type": "execute_result"
    }
   ],
   "source": [
    "sample_list[-2]"
   ]
  },
  {
   "cell_type": "code",
   "execution_count": 12,
   "id": "fce569ac",
   "metadata": {},
   "outputs": [
    {
     "data": {
      "text/plain": [
       "[100000, 12.5, 'hi', 12, 1]"
      ]
     },
     "execution_count": 12,
     "metadata": {},
     "output_type": "execute_result"
    }
   ],
   "source": [
    "sample_list[0]=100000\n",
    "sample_list"
   ]
  },
  {
   "cell_type": "markdown",
   "id": "ef5f4b12",
   "metadata": {},
   "source": [
    "#### "
   ]
  },
  {
   "cell_type": "code",
   "execution_count": 1,
   "id": "59b391e5",
   "metadata": {},
   "outputs": [
    {
     "data": {
      "text/plain": [
       "(1, 13.2, 'hi', 12, 1)"
      ]
     },
     "execution_count": 1,
     "metadata": {},
     "output_type": "execute_result"
    }
   ],
   "source": [
    "sample_tuple=(1,13.2,\"hi\",12,1)\n",
    "sample_tuple"
   ]
  },
  {
   "cell_type": "code",
   "execution_count": 2,
   "id": "7d4bccf0",
   "metadata": {},
   "outputs": [
    {
     "data": {
      "text/plain": [
       "12"
      ]
     },
     "execution_count": 2,
     "metadata": {},
     "output_type": "execute_result"
    }
   ],
   "source": [
    "sample_tuple[3]"
   ]
  },
  {
   "cell_type": "code",
   "execution_count": 3,
   "id": "05e1e45d",
   "metadata": {},
   "outputs": [
    {
     "ename": "TypeError",
     "evalue": "'tuple' object does not support item assignment",
     "output_type": "error",
     "traceback": [
      "\u001b[1;31m---------------------------------------------------------------------------\u001b[0m",
      "\u001b[1;31mTypeError\u001b[0m                                 Traceback (most recent call last)",
      "\u001b[1;32m~\\AppData\\Local\\Temp\\ipykernel_11432\\776946389.py\u001b[0m in \u001b[0;36m<module>\u001b[1;34m\u001b[0m\n\u001b[1;32m----> 1\u001b[1;33m \u001b[0msample_tuple\u001b[0m\u001b[1;33m[\u001b[0m\u001b[1;36m3\u001b[0m\u001b[1;33m]\u001b[0m\u001b[1;33m=\u001b[0m\u001b[1;36m100\u001b[0m\u001b[1;33m\u001b[0m\u001b[1;33m\u001b[0m\u001b[0m\n\u001b[0m",
      "\u001b[1;31mTypeError\u001b[0m: 'tuple' object does not support item assignment"
     ]
    }
   ],
   "source": [
    "sample_tuple[3]=100"
   ]
  },
  {
   "cell_type": "markdown",
   "id": "01eff877",
   "metadata": {},
   "source": [
    "#### tuple is immutable which means the tuple contents cannot be modified as and when required.\n",
    "#### THEREFORE THE LIST IS MUTABLE AND THE TUPLE IS IMMUTABLE"
   ]
  },
  {
   "cell_type": "code",
   "execution_count": 4,
   "id": "fe5b68c2",
   "metadata": {},
   "outputs": [
    {
     "data": {
      "text/plain": [
       "(1, 13.2, 'hi', 12, 1)"
      ]
     },
     "execution_count": 4,
     "metadata": {},
     "output_type": "execute_result"
    }
   ],
   "source": [
    "sample_tuple= 1,13.2,\"hi\",12,1\n",
    "sample_tuple"
   ]
  },
  {
   "cell_type": "markdown",
   "id": "6614fff1",
   "metadata": {},
   "source": [
    "#### THE TUPLE CAN ALSO BE WRITTEN IN FORM OF BRACKETS OR WITHOUT BRACKETS"
   ]
  },
  {
   "cell_type": "code",
   "execution_count": 6,
   "id": "b51592af",
   "metadata": {},
   "outputs": [
    {
     "data": {
      "text/plain": [
       "{1, 12, 127, 13.6, 35, 'apple', 'ball', 'hi', 'king'}"
      ]
     },
     "execution_count": 6,
     "metadata": {},
     "output_type": "execute_result"
    }
   ],
   "source": [
    "sample_set={1,13.6,\"hi\",12,1,35,35,\"apple\",\"king\",\"ball\",127}\n",
    "sample_set"
   ]
  },
  {
   "cell_type": "code",
   "execution_count": 7,
   "id": "43fff450",
   "metadata": {},
   "outputs": [
    {
     "ename": "TypeError",
     "evalue": "'set' object is not subscriptable",
     "output_type": "error",
     "traceback": [
      "\u001b[1;31m---------------------------------------------------------------------------\u001b[0m",
      "\u001b[1;31mTypeError\u001b[0m                                 Traceback (most recent call last)",
      "\u001b[1;32m~\\AppData\\Local\\Temp\\ipykernel_11432\\1710632827.py\u001b[0m in \u001b[0;36m<module>\u001b[1;34m\u001b[0m\n\u001b[1;32m----> 1\u001b[1;33m \u001b[0msample_set\u001b[0m\u001b[1;33m[\u001b[0m\u001b[1;36m5\u001b[0m\u001b[1;33m]\u001b[0m\u001b[1;33m\u001b[0m\u001b[1;33m\u001b[0m\u001b[0m\n\u001b[0m",
      "\u001b[1;31mTypeError\u001b[0m: 'set' object is not subscriptable"
     ]
    }
   ],
   "source": [
    "sample_set[5]"
   ]
  },
  {
   "cell_type": "code",
   "execution_count": 8,
   "id": "bb7aa3aa",
   "metadata": {},
   "outputs": [
    {
     "ename": "TypeError",
     "evalue": "'set' object does not support item assignment",
     "output_type": "error",
     "traceback": [
      "\u001b[1;31m---------------------------------------------------------------------------\u001b[0m",
      "\u001b[1;31mTypeError\u001b[0m                                 Traceback (most recent call last)",
      "\u001b[1;32m~\\AppData\\Local\\Temp\\ipykernel_11432\\3515072761.py\u001b[0m in \u001b[0;36m<module>\u001b[1;34m\u001b[0m\n\u001b[1;32m----> 1\u001b[1;33m \u001b[0msample_set\u001b[0m\u001b[1;33m[\u001b[0m\u001b[1;36m0\u001b[0m\u001b[1;33m]\u001b[0m\u001b[1;33m=\u001b[0m\u001b[1;34m\"hello\"\u001b[0m\u001b[1;33m\u001b[0m\u001b[1;33m\u001b[0m\u001b[0m\n\u001b[0m",
      "\u001b[1;31mTypeError\u001b[0m: 'set' object does not support item assignment"
     ]
    }
   ],
   "source": [
    "sample_set[0]=\"hello\""
   ]
  },
  {
   "cell_type": "code",
   "execution_count": 9,
   "id": "b851842f",
   "metadata": {},
   "outputs": [],
   "source": [
    "sample_set.add(1000)"
   ]
  },
  {
   "cell_type": "code",
   "execution_count": 10,
   "id": "34268c3f",
   "metadata": {},
   "outputs": [],
   "source": [
    "sample_set.remove(\"hi\")"
   ]
  },
  {
   "cell_type": "code",
   "execution_count": 11,
   "id": "e4b0cc38",
   "metadata": {},
   "outputs": [
    {
     "data": {
      "text/plain": [
       "{1, 1000, 12, 127, 13.6, 35, 'apple', 'ball', 'king'}"
      ]
     },
     "execution_count": 11,
     "metadata": {},
     "output_type": "execute_result"
    }
   ],
   "source": [
    "sample_set"
   ]
  },
  {
   "cell_type": "markdown",
   "id": "b5bb10e2",
   "metadata": {},
   "source": [
    "#### a set is a set of elements enclosed within curly brackets and the output of it goes in an ascending order of 1st letter or 1st number of the each element and even contains a unique combination of data given in the brackets as output.\n",
    "\n",
    "#### a set is mutable but we cannot retrieve data elements using index, rather we can add or remove any element from the set of elements. "
   ]
  },
  {
   "cell_type": "code",
   "execution_count": 6,
   "id": "780f211c",
   "metadata": {},
   "outputs": [
    {
     "data": {
      "text/plain": [
       "{1: 'apple', 2: 'every', 3: 'data', 6: 13.5, 7: 13.5}"
      ]
     },
     "execution_count": 6,
     "metadata": {},
     "output_type": "execute_result"
    }
   ],
   "source": [
    "sample_dict={1:\"apple\",2:13.5,3:\"data\",2:\"every\",6:13.5,7:13.5}\n",
    "sample_dict"
   ]
  },
  {
   "cell_type": "code",
   "execution_count": 7,
   "id": "01f839c0",
   "metadata": {},
   "outputs": [
    {
     "data": {
      "text/plain": [
       "'apple'"
      ]
     },
     "execution_count": 7,
     "metadata": {},
     "output_type": "execute_result"
    }
   ],
   "source": [
    "sample_dict[1]"
   ]
  },
  {
   "cell_type": "code",
   "execution_count": 8,
   "id": "21a3c118",
   "metadata": {},
   "outputs": [
    {
     "ename": "KeyError",
     "evalue": "'apple'",
     "output_type": "error",
     "traceback": [
      "\u001b[1;31m---------------------------------------------------------------------------\u001b[0m",
      "\u001b[1;31mKeyError\u001b[0m                                  Traceback (most recent call last)",
      "\u001b[1;32m~\\AppData\\Local\\Temp\\ipykernel_19260\\4087908590.py\u001b[0m in \u001b[0;36m<module>\u001b[1;34m\u001b[0m\n\u001b[1;32m----> 1\u001b[1;33m \u001b[0msample_dict\u001b[0m\u001b[1;33m[\u001b[0m\u001b[1;34m\"apple\"\u001b[0m\u001b[1;33m]\u001b[0m\u001b[1;33m\u001b[0m\u001b[1;33m\u001b[0m\u001b[0m\n\u001b[0m",
      "\u001b[1;31mKeyError\u001b[0m: 'apple'"
     ]
    }
   ],
   "source": [
    "sample_dict[\"apple\"]"
   ]
  },
  {
   "cell_type": "code",
   "execution_count": 9,
   "id": "0a030baa",
   "metadata": {},
   "outputs": [
    {
     "ename": "KeyError",
     "evalue": "5",
     "output_type": "error",
     "traceback": [
      "\u001b[1;31m---------------------------------------------------------------------------\u001b[0m",
      "\u001b[1;31mKeyError\u001b[0m                                  Traceback (most recent call last)",
      "\u001b[1;32m~\\AppData\\Local\\Temp\\ipykernel_19260\\4286431282.py\u001b[0m in \u001b[0;36m<module>\u001b[1;34m\u001b[0m\n\u001b[1;32m----> 1\u001b[1;33m \u001b[0msample_dict\u001b[0m\u001b[1;33m[\u001b[0m\u001b[1;36m5\u001b[0m\u001b[1;33m]\u001b[0m\u001b[1;33m\u001b[0m\u001b[1;33m\u001b[0m\u001b[0m\n\u001b[0m",
      "\u001b[1;31mKeyError\u001b[0m: 5"
     ]
    }
   ],
   "source": [
    "sample_dict[5]"
   ]
  },
  {
   "cell_type": "code",
   "execution_count": 10,
   "id": "d9be6646",
   "metadata": {},
   "outputs": [],
   "source": [
    "sample_dict[7]=100"
   ]
  },
  {
   "cell_type": "code",
   "execution_count": 11,
   "id": "a066d754",
   "metadata": {},
   "outputs": [
    {
     "data": {
      "text/plain": [
       "{1: 'apple', 2: 'every', 3: 'data', 6: 13.5, 7: 100}"
      ]
     },
     "execution_count": 11,
     "metadata": {},
     "output_type": "execute_result"
    }
   ],
   "source": [
    "sample_dict"
   ]
  },
  {
   "cell_type": "code",
   "execution_count": 12,
   "id": "7f61d62f",
   "metadata": {},
   "outputs": [],
   "source": [
    "sample_dict[100]=\"business\""
   ]
  },
  {
   "cell_type": "code",
   "execution_count": 13,
   "id": "e6724f46",
   "metadata": {},
   "outputs": [
    {
     "data": {
      "text/plain": [
       "{1: 'apple', 2: 'every', 3: 'data', 6: 13.5, 7: 100, 100: 'business'}"
      ]
     },
     "execution_count": 13,
     "metadata": {},
     "output_type": "execute_result"
    }
   ],
   "source": [
    "sample_dict"
   ]
  },
  {
   "cell_type": "code",
   "execution_count": 17,
   "id": "5bb82ecc",
   "metadata": {},
   "outputs": [
    {
     "ename": "KeyError",
     "evalue": "-1",
     "output_type": "error",
     "traceback": [
      "\u001b[1;31m---------------------------------------------------------------------------\u001b[0m",
      "\u001b[1;31mKeyError\u001b[0m                                  Traceback (most recent call last)",
      "\u001b[1;32m~\\AppData\\Local\\Temp\\ipykernel_19260\\2493762038.py\u001b[0m in \u001b[0;36m<module>\u001b[1;34m\u001b[0m\n\u001b[1;32m----> 1\u001b[1;33m \u001b[0msample_dict\u001b[0m\u001b[1;33m[\u001b[0m\u001b[1;33m-\u001b[0m\u001b[1;36m1\u001b[0m\u001b[1;33m]\u001b[0m\u001b[1;33m\u001b[0m\u001b[1;33m\u001b[0m\u001b[0m\n\u001b[0m",
      "\u001b[1;31mKeyError\u001b[0m: -1"
     ]
    }
   ],
   "source": [
    "sample_dict[-1]"
   ]
  },
  {
   "cell_type": "markdown",
   "id": "62ae5945",
   "metadata": {},
   "source": [
    "#### dictionary is a set of elements which are written in form of  key:(pair) data structure.\n",
    "####   it is unique in nature i.e., while giving the output it never repeats the key value twice but can repeat the data structure twice.\n",
    "####   the data structures can be retrieved using key-values, but the key values cannot be retrieved using data structures as index.\n",
    "#### A DICTIONARY IS MUTABLE IN NATURE i.e., we can modify the elements of a dictionary using key values as index. "
   ]
  }
 ],
 "metadata": {
  "kernelspec": {
   "display_name": "Python 3 (ipykernel)",
   "language": "python",
   "name": "python3"
  },
  "language_info": {
   "codemirror_mode": {
    "name": "ipython",
    "version": 3
   },
   "file_extension": ".py",
   "mimetype": "text/x-python",
   "name": "python",
   "nbconvert_exporter": "python",
   "pygments_lexer": "ipython3",
   "version": "3.9.13"
  }
 },
 "nbformat": 4,
 "nbformat_minor": 5
}
